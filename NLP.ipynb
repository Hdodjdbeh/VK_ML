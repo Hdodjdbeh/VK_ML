{
 "cells": [
  {
   "cell_type": "code",
   "execution_count": 4,
   "id": "2774a494",
   "metadata": {},
   "outputs": [
    {
     "name": "stderr",
     "output_type": "stream",
     "text": [
      "[nltk_data] Downloading package stopwords to\n",
      "[nltk_data]     C:\\Users\\user\\AppData\\Roaming\\nltk_data...\n",
      "[nltk_data]   Package stopwords is already up-to-date!\n",
      "[nltk_data] Downloading package punkt to\n",
      "[nltk_data]     C:\\Users\\user\\AppData\\Roaming\\nltk_data...\n",
      "[nltk_data]   Package punkt is already up-to-date!\n"
     ]
    }
   ],
   "source": [
    "import nltk\n",
    "import numpy as np\n",
    "import pandas as pd\n",
    "from nltk.stem.snowball import SnowballStemmer\n",
    "import warnings\n",
    "import nltk\n",
    "from nltk import word_tokenize\n",
    "from nltk.tokenize import word_tokenize\n",
    "from nltk.corpus import stopwords\n",
    "nltk.download('stopwords')\n",
    "stop_words =stopwords.words(\"russian\")\n",
    "stop_words1 = stopwords.words(\"english\")\n",
    "from collections import Counter\n",
    "import string\n",
    "nltk.download('punkt')\n",
    "from sklearn.linear_model import LogisticRegression\n",
    "from sklearn.metrics import recall_score\n",
    "from sklearn.model_selection import train_test_split\n",
    "import pymorphy2\n",
    "from pymorphy2 import MorphAnalyzer\n",
    "from sklearn.feature_extraction.text import TfidfVectorizer\n",
    "from sklearn.naive_bayes import MultinomialNB\n",
    "from sklearn.metrics import confusion_matrix\n",
    "import seaborn as sns\n",
    "import matplotlib.pyplot as plt\n",
    "from sklearn import preprocessing\n",
    "from sklearn.metrics import f1_score\n",
    "from sklearn.metrics import roc_curve, roc_auc_score \n",
    "from sklearn.pipeline import Pipeline\n",
    "from sklearn.compose import ColumnTransformer\n",
    "from sklearn.feature_extraction.text import TfidfVectorizer, CountVectorizer"
   ]
  },
  {
   "cell_type": "code",
   "execution_count": 5,
   "id": "efb78770",
   "metadata": {},
   "outputs": [
    {
     "data": {
      "text/html": [
       "<div>\n",
       "<style scoped>\n",
       "    .dataframe tbody tr th:only-of-type {\n",
       "        vertical-align: middle;\n",
       "    }\n",
       "\n",
       "    .dataframe tbody tr th {\n",
       "        vertical-align: top;\n",
       "    }\n",
       "\n",
       "    .dataframe thead th {\n",
       "        text-align: right;\n",
       "    }\n",
       "</style>\n",
       "<table border=\"1\" class=\"dataframe\">\n",
       "  <thead>\n",
       "    <tr style=\"text-align: right;\">\n",
       "      <th></th>\n",
       "      <th>id</th>\n",
       "      <th>url</th>\n",
       "      <th>title</th>\n",
       "      <th>target</th>\n",
       "    </tr>\n",
       "  </thead>\n",
       "  <tbody>\n",
       "    <tr>\n",
       "      <th>0</th>\n",
       "      <td>0</td>\n",
       "      <td>m.kp.md</td>\n",
       "      <td>Экс-министр экономики Молдовы - главе МИДЭИ, ц...</td>\n",
       "      <td>False</td>\n",
       "    </tr>\n",
       "    <tr>\n",
       "      <th>1</th>\n",
       "      <td>1</td>\n",
       "      <td>www.kp.by</td>\n",
       "      <td>Эта песня стала известна многим телезрителям б...</td>\n",
       "      <td>False</td>\n",
       "    </tr>\n",
       "    <tr>\n",
       "      <th>2</th>\n",
       "      <td>2</td>\n",
       "      <td>fanserials.tv</td>\n",
       "      <td>Банши 4 сезон 2 серия Бремя красоты смотреть о...</td>\n",
       "      <td>False</td>\n",
       "    </tr>\n",
       "    <tr>\n",
       "      <th>3</th>\n",
       "      <td>3</td>\n",
       "      <td>colorbox.spb.ru</td>\n",
       "      <td>Не Беси Меня Картинки</td>\n",
       "      <td>False</td>\n",
       "    </tr>\n",
       "    <tr>\n",
       "      <th>4</th>\n",
       "      <td>4</td>\n",
       "      <td>tula-sport.ru</td>\n",
       "      <td>В Новомосковске сыграют следж-хоккеисты алекси...</td>\n",
       "      <td>False</td>\n",
       "    </tr>\n",
       "  </tbody>\n",
       "</table>\n",
       "</div>"
      ],
      "text/plain": [
       "   id              url                                              title  \\\n",
       "0   0          m.kp.md  Экс-министр экономики Молдовы - главе МИДЭИ, ц...   \n",
       "1   1        www.kp.by  Эта песня стала известна многим телезрителям б...   \n",
       "2   2    fanserials.tv  Банши 4 сезон 2 серия Бремя красоты смотреть о...   \n",
       "3   3  colorbox.spb.ru                              Не Беси Меня Картинки   \n",
       "4   4    tula-sport.ru  В Новомосковске сыграют следж-хоккеисты алекси...   \n",
       "\n",
       "   target  \n",
       "0   False  \n",
       "1   False  \n",
       "2   False  \n",
       "3   False  \n",
       "4   False  "
      ]
     },
     "execution_count": 5,
     "metadata": {},
     "output_type": "execute_result"
    }
   ],
   "source": [
    "train_df = pd.read_csv(\"train.csv\")\n",
    "\n",
    "train_df.head()"
   ]
  },
  {
   "cell_type": "code",
   "execution_count": 6,
   "id": "d396ae49",
   "metadata": {},
   "outputs": [
    {
     "data": {
      "text/html": [
       "<div>\n",
       "<style scoped>\n",
       "    .dataframe tbody tr th:only-of-type {\n",
       "        vertical-align: middle;\n",
       "    }\n",
       "\n",
       "    .dataframe tbody tr th {\n",
       "        vertical-align: top;\n",
       "    }\n",
       "\n",
       "    .dataframe thead th {\n",
       "        text-align: right;\n",
       "    }\n",
       "</style>\n",
       "<table border=\"1\" class=\"dataframe\">\n",
       "  <thead>\n",
       "    <tr style=\"text-align: right;\">\n",
       "      <th></th>\n",
       "      <th>id</th>\n",
       "      <th>url</th>\n",
       "      <th>title</th>\n",
       "    </tr>\n",
       "  </thead>\n",
       "  <tbody>\n",
       "    <tr>\n",
       "      <th>0</th>\n",
       "      <td>135309</td>\n",
       "      <td>www.kommersant.ru</td>\n",
       "      <td>Шестой кассационный суд в Самаре начнет работу...</td>\n",
       "    </tr>\n",
       "    <tr>\n",
       "      <th>1</th>\n",
       "      <td>135310</td>\n",
       "      <td>urexpert.online</td>\n",
       "      <td>Что такое индексация алиментов, кем и в каких ...</td>\n",
       "    </tr>\n",
       "    <tr>\n",
       "      <th>2</th>\n",
       "      <td>135311</td>\n",
       "      <td>imperimeha.ru</td>\n",
       "      <td>Женщинам | Империя Меха - Part 12</td>\n",
       "    </tr>\n",
       "    <tr>\n",
       "      <th>3</th>\n",
       "      <td>135312</td>\n",
       "      <td>national-porn.com</td>\n",
       "      <td>Небритые, волосатые киски: Порно всех стран и ...</td>\n",
       "    </tr>\n",
       "    <tr>\n",
       "      <th>4</th>\n",
       "      <td>135313</td>\n",
       "      <td>2gis.ru</td>\n",
       "      <td>67</td>\n",
       "    </tr>\n",
       "  </tbody>\n",
       "</table>\n",
       "</div>"
      ],
      "text/plain": [
       "       id                url  \\\n",
       "0  135309  www.kommersant.ru   \n",
       "1  135310    urexpert.online   \n",
       "2  135311      imperimeha.ru   \n",
       "3  135312  national-porn.com   \n",
       "4  135313            2gis.ru   \n",
       "\n",
       "                                               title  \n",
       "0  Шестой кассационный суд в Самаре начнет работу...  \n",
       "1  Что такое индексация алиментов, кем и в каких ...  \n",
       "2                  Женщинам | Империя Меха - Part 12  \n",
       "3  Небритые, волосатые киски: Порно всех стран и ...  \n",
       "4                                                 67  "
      ]
     },
     "execution_count": 6,
     "metadata": {},
     "output_type": "execute_result"
    }
   ],
   "source": [
    "test_df = pd.read_csv(\"test.csv\")\n",
    "\n",
    "test_df.head()"
   ]
  },
  {
   "cell_type": "code",
   "execution_count": 4,
   "id": "7feeeb35",
   "metadata": {},
   "outputs": [],
   "source": [
    "# min_talk_len = 200\n",
    "\n",
    "# train_df = train_df[train_df.title.str.len() <= min_talk_len].reset_index(drop=True)\n",
    "\n",
    "# train_df.title.str.len().hist(bins=200);"
   ]
  },
  {
   "cell_type": "code",
   "execution_count": 5,
   "id": "f079a28b",
   "metadata": {},
   "outputs": [],
   "source": [
    "X_train = train_df[\"title\"].values\n",
    "X_test = test_df[\"title\"].values\n",
    "y_train = train_df[\"target\"].values.astype(\"int\")\n",
    "X_train = X_train.astype(\"str\")\n",
    "X_url = train_df[\"url\"].values\n",
    "X_url = X_url.astype(\"str\")\n",
    "X_url_test = test_df[\"url\"].values\n",
    "X_url_test = X_url_test.astype(\"str\")"
   ]
  },
  {
   "cell_type": "code",
   "execution_count": 6,
   "id": "2bfef8e8",
   "metadata": {},
   "outputs": [],
   "source": [
    "def Tokenized(X_train,X_url):\n",
    "    res = []\n",
    "\n",
    "    for i in range(X_train.shape[0]):\n",
    "      res.append(word_tokenize(X_train[i]+X_url[i]))\n",
    "    return res\n",
    "\n",
    "X_tokenized = Tokenized(X_train,X_url)\n",
    "X_tokenized_test = Tokenized(X_test,X_url_test)"
   ]
  },
  {
   "cell_type": "code",
   "execution_count": 7,
   "id": "572b6f9b",
   "metadata": {},
   "outputs": [],
   "source": [
    "def Lower_index(X):\n",
    "  for i in range(len(X)):\n",
    "    for j in range(len(X[i])):\n",
    "      X[i][j]=X[i][j].lower()\n",
    "\n",
    "  return X\n",
    "\n",
    "X_lower = Lower_index(X_tokenized)\n",
    "X_lower_test = Lower_index(X_tokenized_test)"
   ]
  },
  {
   "cell_type": "code",
   "execution_count": 8,
   "id": "222f21fb",
   "metadata": {},
   "outputs": [
    {
     "data": {
      "text/plain": [
       "'экс-министр'"
      ]
     },
     "execution_count": 8,
     "metadata": {},
     "output_type": "execute_result"
    }
   ],
   "source": [
    "X_lower[0][0]"
   ]
  },
  {
   "cell_type": "code",
   "execution_count": 9,
   "id": "4242d1bc",
   "metadata": {},
   "outputs": [
    {
     "name": "stdout",
     "output_type": "stream",
     "text": [
      "['шестой', 'кассационный', 'суд', 'самаре', 'начнет', 'работу', 'разных', 'зданиях', '–', 'фото', '–', 'коммерсантъwww.kommersant.ru']\n"
     ]
    }
   ],
   "source": [
    "def stopword(X):\n",
    "  for x in X:\n",
    "    for i in x:\n",
    "      if i in stop_words or i in stop_words1 or i in string.punctuation:\n",
    "        x.remove(i)\n",
    "  return X\n",
    "def stopwordsingle(x):\n",
    "  for i in x:\n",
    "    if i in stop_words or i in stop_words1:\n",
    "        x.remove(i)\n",
    "  return x\n",
    "X_new = stopword(X_lower)\n",
    "X_new_test = stopword(X_lower_test)\n",
    "print(X_new_test[0])"
   ]
  },
  {
   "cell_type": "code",
   "execution_count": 10,
   "id": "978c02d6",
   "metadata": {},
   "outputs": [
    {
     "data": {
      "text/plain": [
       "'экс-министр'"
      ]
     },
     "execution_count": 10,
     "metadata": {},
     "output_type": "execute_result"
    }
   ],
   "source": [
    "X_new[0][0]"
   ]
  },
  {
   "cell_type": "code",
   "execution_count": 11,
   "id": "de064af8",
   "metadata": {},
   "outputs": [],
   "source": [
    "snow = SnowballStemmer(language = 'russian')\n",
    "def stemming_text(text):\n",
    "    snow = SnowballStemmer(language = 'russian')\n",
    "    lemmatized_text = []\n",
    "    mimi=[]\n",
    "    for word in text:\n",
    "       for i in word:\n",
    "         parsed_i = snow.stem(i)\n",
    "         mimi.append(parsed_i)\n",
    "\n",
    "       lemmatized_text.append(mimi)\n",
    "       mimi = []\n",
    "    return lemmatized_text\n",
    "\n",
    "X_lem = stemming_text(X_new)\n",
    "X_lem_test = stemming_text(X_new_test)"
   ]
  },
  {
   "cell_type": "code",
   "execution_count": 12,
   "id": "8a013564",
   "metadata": {},
   "outputs": [],
   "source": [
    "X_lem_copy = X_lem\n",
    "X_lem_copy_test = X_lem_test\n"
   ]
  },
  {
   "cell_type": "code",
   "execution_count": 13,
   "id": "2cbdccae",
   "metadata": {},
   "outputs": [
    {
     "name": "stdout",
     "output_type": "stream",
     "text": [
      "экс-министр экономик молдов глав мидэ цел котор сдела республик просител а донор над избега долг нахожден н�м.кп.мд\n"
     ]
    }
   ],
   "source": [
    "def Glue(X):\n",
    "  mimi = []\n",
    "  y = []\n",
    "  for i in range(len(X)):\n",
    "    for j in range(len(X[i])):\n",
    "      if(j==0):\n",
    "        mimi=X[i][j]\n",
    "      else:\n",
    "        mimi+=\" \"\n",
    "        mimi+=X[i][j]\n",
    "    y.append(mimi)\n",
    "    mimi=[]\n",
    "  return y\n",
    "\n",
    "X_new = Glue(X_lem_copy)\n",
    "X_new_test = Glue(X_lem_copy_test)\n",
    "print(X_new[0])"
   ]
  },
  {
   "cell_type": "code",
   "execution_count": 14,
   "id": "f1099da6",
   "metadata": {},
   "outputs": [],
   "source": [
    "for i in range(len(X_new)):\n",
    "  X_new[i]=str(X_new[i])\n",
    "\n",
    "for i in range(len(X_new_test)):\n",
    "  X_new_test[i]=str(X_new_test[i])"
   ]
  },
  {
   "cell_type": "code",
   "execution_count": 15,
   "id": "bb9f453c",
   "metadata": {},
   "outputs": [
    {
     "data": {
      "text/plain": [
       "'экс-министр экономик молдов глав мидэ цел котор сдела республик просител а донор над избега долг нахожден н�м.кп.мд'"
      ]
     },
     "execution_count": 15,
     "metadata": {},
     "output_type": "execute_result"
    }
   ],
   "source": [
    "X_new[0]"
   ]
  },
  {
   "cell_type": "code",
   "execution_count": 16,
   "id": "62bfafc3",
   "metadata": {},
   "outputs": [
    {
     "name": "stdout",
     "output_type": "stream",
     "text": [
      "(204764,)\n"
     ]
    }
   ],
   "source": [
    "model = MultinomialNB()\n",
    "from sklearn.svm import SVC  \n",
    "\n",
    "model = SVC(kernel='linear', probability = False) \n",
    "\n",
    "from sklearn.ensemble import RandomForestClassifier\n",
    "from sklearn.utils.class_weight import compute_class_weight\n",
    "\n",
    "# Получение весов классов\n",
    "class_weights = compute_class_weight('balanced', classes=np.unique(y_train), y=y_train)\n",
    "\n",
    "# Создание модели с взвешиванием классов\n",
    "model = RandomForestClassifier(class_weight=dict(enumerate(class_weights)))\n",
    "tfidf_vectorizer = TfidfVectorizer(norm='l2')\n",
    "\n",
    "tfidf_matrix = tfidf_vectorizer.fit_transform(X_new)\n",
    "\n",
    "tfidf_matrix_test = tfidf_vectorizer.transform(X_new_test)\n",
    "\n",
    "feature_names = tfidf_vectorizer.get_feature_names_out()\n",
    "print(feature_names.shape)\n"
   ]
  },
  {
   "cell_type": "code",
   "execution_count": 17,
   "id": "7d2fd313",
   "metadata": {},
   "outputs": [
    {
     "name": "stdout",
     "output_type": "stream",
     "text": [
      "CPU times: total: 24min 17s\n",
      "Wall time: 24min 19s\n"
     ]
    }
   ],
   "source": [
    "%%time\n",
    "\n",
    "model.fit(\n",
    "    tfidf_matrix,\n",
    "    y_train\n",
    ")\n",
    "\n",
    "y_pred = model.predict(\n",
    "    tfidf_matrix\n",
    ")\n",
    "\n"
   ]
  },
  {
   "cell_type": "code",
   "execution_count": 18,
   "id": "22516a76",
   "metadata": {},
   "outputs": [
    {
     "data": {
      "text/plain": [
       "0.9996411268616544"
      ]
     },
     "execution_count": 18,
     "metadata": {},
     "output_type": "execute_result"
    }
   ],
   "source": [
    "f1_score(y_train, y_pred)"
   ]
  },
  {
   "cell_type": "code",
   "execution_count": 19,
   "id": "136b9266",
   "metadata": {},
   "outputs": [
    {
     "name": "stderr",
     "output_type": "stream",
     "text": [
      "\"cat\" не является внутренней или внешней\n",
      "командой, исполняемой программой или пакетным файлом.\n"
     ]
    }
   ],
   "source": [
    "test_df.columns = ['ID','url','title']\n",
    "\n",
    "test_df[\"label\"] = model.predict(tfidf_matrix_test)\n",
    "\n",
    "\n",
    "test_df[[\"ID\", \"label\"]].to_csv(\"ml_1.csv\", index=False)\n",
    "\n",
    "!cat ml_baseline.csv | head\n",
    "\n",
    "\n",
    "\n"
   ]
  },
  {
   "cell_type": "code",
   "execution_count": 196,
   "id": "c87ac733",
   "metadata": {},
   "outputs": [
    {
     "name": "stdout",
     "output_type": "stream",
     "text": [
      "CPU times: total: 23.9 s\n",
      "Wall time: 6.08 s\n"
     ]
    },
    {
     "name": "stderr",
     "output_type": "stream",
     "text": [
      "C:\\Users\\user\\anaconda3\\Lib\\site-packages\\sklearn\\linear_model\\_logistic.py:458: ConvergenceWarning: lbfgs failed to converge (status=1):\n",
      "STOP: TOTAL NO. of ITERATIONS REACHED LIMIT.\n",
      "\n",
      "Increase the number of iterations (max_iter) or scale the data as shown in:\n",
      "    https://scikit-learn.org/stable/modules/preprocessing.html\n",
      "Please also refer to the documentation for alternative solver options:\n",
      "    https://scikit-learn.org/stable/modules/linear_model.html#logistic-regression\n",
      "  n_iter_i = _check_optimize_result(\n"
     ]
    }
   ],
   "source": [
    "# %%time\n",
    "\n",
    "# model.fit(\n",
    "#     tfidf_matrix,\n",
    "#     y_train\n",
    "# )\n",
    "\n",
    "# y_pred = model.predict(\n",
    "#     tfidf_matrix\n",
    "# )\n",
    "\n"
   ]
  },
  {
   "cell_type": "code",
   "execution_count": 197,
   "id": "3d928005",
   "metadata": {},
   "outputs": [
    {
     "name": "stdout",
     "output_type": "stream",
     "text": [
      "0.9685649758896416\n"
     ]
    }
   ],
   "source": [
    "# threshold = 0.32\n",
    "# proba = model.predict_proba(tfidf_matrix)\n",
    "# y_pred = (proba[:, 1] >= threshold).astype(int)\n",
    "# fpr, tpr, thresholds = roc_curve(y_train, y_pred, pos_label=1)\n",
    "    \n",
    "# roc_auc = roc_auc_score(y_train, y_pred) \n",
    "# # print(roc_auc)\n",
    "# print(f1_score(y_train, y_pred))\n",
    "# # plt.plot(fpr, tpr, label='ROC curve (area = %0.2f)' % roc_auc) \n",
    "# # # roc curve for tpr = fpr  \n",
    "# # plt.plot([0, 1], [0, 1], 'k--', label='Random classifier') \n",
    "# # plt.xlabel('False Positive Rate') \n",
    "# # plt.ylabel('True Positive Rate') \n",
    "# # plt.title('ROC Curve') \n",
    "# # plt.legend(loc=\"lower right\") \n",
    "# # plt.show()  "
   ]
  },
  {
   "cell_type": "code",
   "execution_count": 119,
   "id": "4664a5f6",
   "metadata": {},
   "outputs": [
    {
     "name": "stdout",
     "output_type": "stream",
     "text": [
      "0.0\n",
      "0.01\n",
      "0.02\n",
      "0.03\n",
      "0.04\n",
      "0.05\n",
      "0.06\n",
      "0.07\n",
      "0.08\n",
      "0.09\n",
      "0.1\n",
      "0.11\n",
      "0.12\n",
      "0.13\n",
      "0.14\n",
      "0.15\n",
      "0.16\n",
      "0.17\n",
      "0.18\n",
      "0.2\n",
      "0.21\n",
      "0.5\n"
     ]
    }
   ],
   "source": [
    "# # threshold = 0.4\n",
    "# # proba = model.predict_proba(tfidf_matrix)\n",
    "# # y_pred = (proba[:, 1] >= threshold).astype(int)\n",
    "\n",
    "# # y_pred_prob = model.predict_proba(tfidf_matrix)[:, 1] \n",
    "# def best_threshold(model,tdidf_matrix,y_train):\n",
    "#     a = 0\n",
    "#     for thr in np.linspace(0,1,101):\n",
    "#         proba = model.predict_proba(tfidf_matrix)\n",
    "#         y_pred = (proba[:, 1] >= thr).astype(int)\n",
    "#         roc_auc = roc_auc_score(y_train, y_pred) \n",
    "#         if(a<roc_auc):\n",
    "#             a= roc_auc\n",
    "#             thr_max = thr\n",
    "#             print(thr_max)\n",
    "            \n",
    "#     print(roc_auc)\n",
    "#     return thr_max\n",
    "# threshold =best_threshold(model,tfidf_matrix,y_train)"
   ]
  },
  {
   "cell_type": "code",
   "execution_count": 111,
   "id": "e00d99db",
   "metadata": {},
   "outputs": [
    {
     "name": "stdout",
     "output_type": "stream",
     "text": [
      "1.0\n"
     ]
    }
   ],
   "source": [
    "# print(threshold)"
   ]
  },
  {
   "cell_type": "code",
   "execution_count": 198,
   "id": "18394967",
   "metadata": {},
   "outputs": [
    {
     "data": {
      "text/plain": [
       "0.9685649758896416"
      ]
     },
     "execution_count": 198,
     "metadata": {},
     "output_type": "execute_result"
    }
   ],
   "source": [
    "# f1_score(y_train, y_pred)"
   ]
  },
  {
   "cell_type": "code",
   "execution_count": 181,
   "id": "fa54933f",
   "metadata": {},
   "outputs": [
    {
     "data": {
      "text/html": [
       "<div>\n",
       "<style scoped>\n",
       "    .dataframe tbody tr th:only-of-type {\n",
       "        vertical-align: middle;\n",
       "    }\n",
       "\n",
       "    .dataframe tbody tr th {\n",
       "        vertical-align: top;\n",
       "    }\n",
       "\n",
       "    .dataframe thead th {\n",
       "        text-align: right;\n",
       "    }\n",
       "</style>\n",
       "<table border=\"1\" class=\"dataframe\">\n",
       "  <thead>\n",
       "    <tr style=\"text-align: right;\">\n",
       "      <th></th>\n",
       "      <th>ID</th>\n",
       "      <th>url</th>\n",
       "      <th>title</th>\n",
       "      <th>label</th>\n",
       "    </tr>\n",
       "  </thead>\n",
       "  <tbody>\n",
       "    <tr>\n",
       "      <th>0</th>\n",
       "      <td>135309</td>\n",
       "      <td>www.kommersant.ru</td>\n",
       "      <td>Шестой кассационный суд в Самаре начнет работу...</td>\n",
       "      <td>0</td>\n",
       "    </tr>\n",
       "    <tr>\n",
       "      <th>1</th>\n",
       "      <td>135310</td>\n",
       "      <td>urexpert.online</td>\n",
       "      <td>Что такое индексация алиментов, кем и в каких ...</td>\n",
       "      <td>0</td>\n",
       "    </tr>\n",
       "    <tr>\n",
       "      <th>2</th>\n",
       "      <td>135311</td>\n",
       "      <td>imperimeha.ru</td>\n",
       "      <td>Женщинам | Империя Меха - Part 12</td>\n",
       "      <td>0</td>\n",
       "    </tr>\n",
       "    <tr>\n",
       "      <th>3</th>\n",
       "      <td>135312</td>\n",
       "      <td>national-porn.com</td>\n",
       "      <td>Небритые, волосатые киски: Порно всех стран и ...</td>\n",
       "      <td>1</td>\n",
       "    </tr>\n",
       "    <tr>\n",
       "      <th>4</th>\n",
       "      <td>135313</td>\n",
       "      <td>2gis.ru</td>\n",
       "      <td>67</td>\n",
       "      <td>0</td>\n",
       "    </tr>\n",
       "  </tbody>\n",
       "</table>\n",
       "</div>"
      ],
      "text/plain": [
       "       ID                url  \\\n",
       "0  135309  www.kommersant.ru   \n",
       "1  135310    urexpert.online   \n",
       "2  135311      imperimeha.ru   \n",
       "3  135312  national-porn.com   \n",
       "4  135313            2gis.ru   \n",
       "\n",
       "                                               title  label  \n",
       "0  Шестой кассационный суд в Самаре начнет работу...      0  \n",
       "1  Что такое индексация алиментов, кем и в каких ...      0  \n",
       "2                  Женщинам | Империя Меха - Part 12      0  \n",
       "3  Небритые, волосатые киски: Порно всех стран и ...      1  \n",
       "4                                                 67      0  "
      ]
     },
     "execution_count": 181,
     "metadata": {},
     "output_type": "execute_result"
    }
   ],
   "source": [
    "# test_df.head()"
   ]
  },
  {
   "cell_type": "code",
   "execution_count": 225,
   "id": "527f7b4e",
   "metadata": {},
   "outputs": [
    {
     "ename": "AttributeError",
     "evalue": "predict_proba is not available when  probability=False",
     "output_type": "error",
     "traceback": [
      "\u001b[1;31m---------------------------------------------------------------------------\u001b[0m",
      "\u001b[1;31mAttributeError\u001b[0m                            Traceback (most recent call last)",
      "Cell \u001b[1;32mIn[225], line 5\u001b[0m\n\u001b[0;32m      2\u001b[0m \u001b[38;5;66;03m# test_df[\"label\"] = model.predict(tfidf_matrix_test)\u001b[39;00m\n\u001b[0;32m      4\u001b[0m threshold \u001b[38;5;241m=\u001b[39m \u001b[38;5;241m0.32\u001b[39m\n\u001b[1;32m----> 5\u001b[0m proba \u001b[38;5;241m=\u001b[39m model\u001b[38;5;241m.\u001b[39mpredict_proba(tfidf_matrix_test)\n\u001b[0;32m      6\u001b[0m y_pred \u001b[38;5;241m=\u001b[39m (proba[:, \u001b[38;5;241m1\u001b[39m] \u001b[38;5;241m>\u001b[39m\u001b[38;5;241m=\u001b[39m threshold)\u001b[38;5;241m.\u001b[39mastype(\u001b[38;5;28mint\u001b[39m)\n\u001b[0;32m      7\u001b[0m test_df[\u001b[38;5;124m\"\u001b[39m\u001b[38;5;124mlabel\u001b[39m\u001b[38;5;124m\"\u001b[39m] \u001b[38;5;241m=\u001b[39m y_pred\n",
      "File \u001b[1;32m~\\anaconda3\\Lib\\site-packages\\sklearn\\utils\\_available_if.py:32\u001b[0m, in \u001b[0;36m_AvailableIfDescriptor.__get__\u001b[1;34m(self, obj, owner)\u001b[0m\n\u001b[0;32m     26\u001b[0m attr_err \u001b[38;5;241m=\u001b[39m \u001b[38;5;167;01mAttributeError\u001b[39;00m(\n\u001b[0;32m     27\u001b[0m     \u001b[38;5;124mf\u001b[39m\u001b[38;5;124m\"\u001b[39m\u001b[38;5;124mThis \u001b[39m\u001b[38;5;132;01m{\u001b[39;00m\u001b[38;5;28mrepr\u001b[39m(owner\u001b[38;5;241m.\u001b[39m\u001b[38;5;18m__name__\u001b[39m)\u001b[38;5;132;01m}\u001b[39;00m\u001b[38;5;124m has no attribute \u001b[39m\u001b[38;5;132;01m{\u001b[39;00m\u001b[38;5;28mrepr\u001b[39m(\u001b[38;5;28mself\u001b[39m\u001b[38;5;241m.\u001b[39mattribute_name)\u001b[38;5;132;01m}\u001b[39;00m\u001b[38;5;124m\"\u001b[39m\n\u001b[0;32m     28\u001b[0m )\n\u001b[0;32m     29\u001b[0m \u001b[38;5;28;01mif\u001b[39;00m obj \u001b[38;5;129;01mis\u001b[39;00m \u001b[38;5;129;01mnot\u001b[39;00m \u001b[38;5;28;01mNone\u001b[39;00m:\n\u001b[0;32m     30\u001b[0m     \u001b[38;5;66;03m# delegate only on instances, not the classes.\u001b[39;00m\n\u001b[0;32m     31\u001b[0m     \u001b[38;5;66;03m# this is to allow access to the docstrings.\u001b[39;00m\n\u001b[1;32m---> 32\u001b[0m     \u001b[38;5;28;01mif\u001b[39;00m \u001b[38;5;129;01mnot\u001b[39;00m \u001b[38;5;28mself\u001b[39m\u001b[38;5;241m.\u001b[39mcheck(obj):\n\u001b[0;32m     33\u001b[0m         \u001b[38;5;28;01mraise\u001b[39;00m attr_err\n\u001b[0;32m     34\u001b[0m     out \u001b[38;5;241m=\u001b[39m MethodType(\u001b[38;5;28mself\u001b[39m\u001b[38;5;241m.\u001b[39mfn, obj)\n",
      "File \u001b[1;32m~\\anaconda3\\Lib\\site-packages\\sklearn\\svm\\_base.py:829\u001b[0m, in \u001b[0;36mBaseSVC._check_proba\u001b[1;34m(self)\u001b[0m\n\u001b[0;32m    827\u001b[0m \u001b[38;5;28;01mdef\u001b[39;00m \u001b[38;5;21m_check_proba\u001b[39m(\u001b[38;5;28mself\u001b[39m):\n\u001b[0;32m    828\u001b[0m     \u001b[38;5;28;01mif\u001b[39;00m \u001b[38;5;129;01mnot\u001b[39;00m \u001b[38;5;28mself\u001b[39m\u001b[38;5;241m.\u001b[39mprobability:\n\u001b[1;32m--> 829\u001b[0m         \u001b[38;5;28;01mraise\u001b[39;00m \u001b[38;5;167;01mAttributeError\u001b[39;00m(\n\u001b[0;32m    830\u001b[0m             \u001b[38;5;124m\"\u001b[39m\u001b[38;5;124mpredict_proba is not available when  probability=False\u001b[39m\u001b[38;5;124m\"\u001b[39m\n\u001b[0;32m    831\u001b[0m         )\n\u001b[0;32m    832\u001b[0m     \u001b[38;5;28;01mif\u001b[39;00m \u001b[38;5;28mself\u001b[39m\u001b[38;5;241m.\u001b[39m_impl \u001b[38;5;129;01mnot\u001b[39;00m \u001b[38;5;129;01min\u001b[39;00m (\u001b[38;5;124m\"\u001b[39m\u001b[38;5;124mc_svc\u001b[39m\u001b[38;5;124m\"\u001b[39m, \u001b[38;5;124m\"\u001b[39m\u001b[38;5;124mnu_svc\u001b[39m\u001b[38;5;124m\"\u001b[39m):\n\u001b[0;32m    833\u001b[0m         \u001b[38;5;28;01mraise\u001b[39;00m \u001b[38;5;167;01mAttributeError\u001b[39;00m(\u001b[38;5;124m\"\u001b[39m\u001b[38;5;124mpredict_proba only implemented for SVC and NuSVC\u001b[39m\u001b[38;5;124m\"\u001b[39m)\n",
      "\u001b[1;31mAttributeError\u001b[0m: predict_proba is not available when  probability=False"
     ]
    }
   ],
   "source": [
    "# test_df.columns = ['ID','url','title']\n",
    "# # test_df[\"label\"] = model.predict(tfidf_matrix_test)\n",
    "\n",
    "# threshold = 0.32\n",
    "# proba = model.predict_proba(tfidf_matrix_test)\n",
    "# y_pred = (proba[:, 1] >= threshold).astype(int)\n",
    "# test_df[\"label\"] = y_pred\n",
    "\n",
    "# test_df[[\"ID\", \"label\"]].to_csv(\"ml_1.csv\", index=False)\n",
    "\n",
    "# !cat ml_baseline.csv | head"
   ]
  },
  {
   "cell_type": "code",
   "execution_count": 206,
   "id": "fae5c761",
   "metadata": {},
   "outputs": [
    {
     "data": {
      "image/png": "[encoded data removed]",
      "text/plain": [
       "<Figure size 640x480 with 2 Axes>"
      ]
     },
     "metadata": {},
     "output_type": "display_data"
    }
   ],
   "source": [
    "# threshold = 0.32\n",
    "# proba = model.predict_proba(tfidf_matrix)\n",
    "# y_pred = (proba[:, 1] >= threshold).astype(int)\n",
    "\n",
    "# cm = confusion_matrix(y_train,y_pred)\n",
    "\n",
    "# sns.heatmap(cm,annot=True,fmt='g')\n",
    "# plt.ylabel('Prediction',fontsize=13)\n",
    "# plt.xlabel('Actual',fontsize=13)\n",
    "# plt.title('Confusion Matrix',fontsize=17)\n",
    "# plt.show()"
   ]
  },
  {
   "cell_type": "code",
   "execution_count": null,
   "id": "4e329b9d",
   "metadata": {},
   "outputs": [],
   "source": []
  }
 ],
 "metadata": {
  "kernelspec": {
   "display_name": "Python 3 (ipykernel)",
   "language": "python",
   "name": "python3"
  },
  "language_info": {
   "codemirror_mode": {
    "name": "ipython",
    "version": 3
   },
   "file_extension": ".py",
   "mimetype": "text/x-python",
   "name": "python",
   "nbconvert_exporter": "python",
   "pygments_lexer": "ipython3",
   "version": "3.12.3"
  }
 },
 "nbformat": 4,
 "nbformat_minor": 5
}
