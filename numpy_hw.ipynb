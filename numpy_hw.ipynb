{
 "cells": [
  {
   "cell_type": "markdown",
   "metadata": {
    "id": "5AzZDbgUSdvA"
   },
   "source": [
    "1.Подсчитать произведение ненулевых элементов на диагонали прямоугольной матрицы.\n",
    "\n"
   ]
  },
  {
   "cell_type": "code",
   "execution_count": 100,
   "metadata": {
    "id": "Q_CaAPvPSttc"
   },
   "outputs": [],
   "source": [
    "import numpy as np\n",
    "import time"
   ]
  },
  {
   "cell_type": "markdown",
   "metadata": {
    "id": "FXzOSzLAS5Ly"
   },
   "source": [
    "1.1"
   ]
  },
  {
   "cell_type": "code",
   "execution_count": 143,
   "metadata": {
    "colab": {
     "base_uri": "https://localhost:8080/"
    },
    "id": "3rySNUF9SY9i",
    "outputId": "c4fc3fc7-9262-48cb-ff8c-0036e487fb64"
   },
   "outputs": [
    {
     "name": "stdout",
     "output_type": "stream",
     "text": [
      "3\n",
      "12.7 µs ± 2.24 µs per loop (mean ± std. dev. of 7 runs, 100000 loops each)\n"
     ]
    }
   ],
   "source": [
    "X = np.array([[1, 0, 1], [2, 0, 2], [3, 0, 3], [4, 4, 4]])\n",
    "# X  = np.random.rand(100,100)\n",
    "def func(X):\n",
    "    X_1 = np.diag(X)\n",
    "    X_1 = X_1[X_1!=0]\n",
    "    return np.prod(X_1[X_1!=0])\n",
    "print(func(X))\n",
    "%timeit func(X)\n"
   ]
  },
  {
   "cell_type": "markdown",
   "metadata": {
    "id": "sPndcVggS7Io"
   },
   "source": [
    "1.2\n"
   ]
  },
  {
   "cell_type": "code",
   "execution_count": 142,
   "metadata": {
    "colab": {
     "base_uri": "https://localhost:8080/"
    },
    "id": "T2tiPXevSv-1",
    "outputId": "fc2f34a8-641e-40db-da42-2bba8fb230b8"
   },
   "outputs": [
    {
     "name": "stdout",
     "output_type": "stream",
     "text": [
      "1.2273439251379158e-45\n",
      "146 µs ± 26.2 µs per loop (mean ± std. dev. of 7 runs, 1000 loops each)\n"
     ]
    }
   ],
   "source": [
    "def func(X):\n",
    "    n=min(X.shape[0],X.shape[1])\n",
    "    X_copy= np.hstack(X[0:n,0:n])\n",
    "    mult=1\n",
    "    i=0\n",
    "    for count in range(n):\n",
    "        if(X_copy[i]!=0):\n",
    "            mult*=X_copy[i]\n",
    "        i=i+n+1\n",
    "    return mult\n",
    "# X  = np.random.rand(100,100)\n",
    "print(func(X))\n",
    "%timeit func(X)"
   ]
  },
  {
   "cell_type": "markdown",
   "metadata": {
    "id": "OqgBzTD7TIaj"
   },
   "source": [
    "1.3"
   ]
  },
  {
   "cell_type": "code",
   "execution_count": 122,
   "metadata": {
    "colab": {
     "base_uri": "https://localhost:8080/"
    },
    "id": "si7j1n8FTEg_",
    "outputId": "3023df76-35c0-4291-ccc7-3424d5862d71"
   },
   "outputs": [
    {
     "name": "stdout",
     "output_type": "stream",
     "text": [
      "3\n",
      "3.2 µs ± 973 ns per loop (mean ± std. dev. of 7 runs, 100000 loops each)\n"
     ]
    }
   ],
   "source": [
    "def func(X):\n",
    "    mult=1\n",
    "    n=min(X.shape[0],X.shape[1])\n",
    "    for i in range(n):\n",
    "        if X[i][i]!=0:\n",
    "            mult*=X[i][i]\n",
    "    return mult\n",
    "# X  = np.random.rand(100,100)\n",
    "print(func(X))\n",
    "%timeit func(X)"
   ]
  },
  {
   "cell_type": "markdown",
   "metadata": {
    "id": "wLN9VaRbTsHQ"
   },
   "source": [
    "2.  Даны два вектора x и y. Проверить, задают ли они одно и то же мультимножество."
   ]
  },
  {
   "cell_type": "markdown",
   "metadata": {
    "id": "mcfwmHYGT1l5"
   },
   "source": [
    "2.1"
   ]
  },
  {
   "cell_type": "code",
   "execution_count": 146,
   "metadata": {
    "colab": {
     "base_uri": "https://localhost:8080/"
    },
    "id": "Hh55p91JT0CK",
    "outputId": "b3f3321d-ea5c-45f6-bca5-fafbb4de2439"
   },
   "outputs": [
    {
     "name": "stdout",
     "output_type": "stream",
     "text": [
      "True\n",
      "2.71 µs ± 54.4 ns per loop (mean ± std. dev. of 7 runs, 100000 loops each)\n"
     ]
    }
   ],
   "source": [
    "def func(x,y):\n",
    "    x=set(x)\n",
    "    y=set(y)\n",
    "    if x!=y:\n",
    "        return False\n",
    "    else:\n",
    "        return True\n",
    "\n",
    "\n",
    "x = np.array([4, 2, 2, 1])\n",
    "y = np.array([4, 2, 1, 2])\n",
    "# x = np.random.rand(1000)\n",
    "# y = np.random.rand(1000)\n",
    "print(func(x,y))\n",
    "%timeit func(x,y)"
   ]
  },
  {
   "cell_type": "markdown",
   "metadata": {
    "id": "WoSUj46vU3fC"
   },
   "source": [
    "2.2"
   ]
  },
  {
   "cell_type": "code",
   "execution_count": 126,
   "metadata": {
    "colab": {
     "base_uri": "https://localhost:8080/"
    },
    "id": "RPtC6DdFUnkN",
    "outputId": "b809c606-971e-4ada-b664-495e564852d4"
   },
   "outputs": [
    {
     "name": "stdout",
     "output_type": "stream",
     "text": [
      "True\n",
      "21.5 µs ± 2.89 µs per loop (mean ± std. dev. of 7 runs, 100000 loops each)\n"
     ]
    }
   ],
   "source": [
    "def func(x,y):\n",
    "    x=np.unique(x)\n",
    "    y=np.unique(y)\n",
    "    if(len(x)!=len(y)):\n",
    "        return False\n",
    "    elif(np.all(x==y)):\n",
    "        return True\n",
    "    else:\n",
    "        return False\n",
    "\n",
    "x = np.array([4, 2, 2, 1])\n",
    "y = np.array([4, 2, 1, 2])\n",
    "# x = np.random.rand(1000)\n",
    "# y = np.random.rand(1000)\n",
    "print(func(x,y))\n",
    "%timeit func(x,y)"
   ]
  },
  {
   "cell_type": "markdown",
   "metadata": {
    "id": "cKw5YorJU46R"
   },
   "source": [
    "2.3"
   ]
  },
  {
   "cell_type": "code",
   "execution_count": 127,
   "metadata": {
    "colab": {
     "base_uri": "https://localhost:8080/"
    },
    "id": "Ycz8shvyUwTW",
    "outputId": "bcdacd7a-d529-44d7-ccff-a928018aa330"
   },
   "outputs": [
    {
     "name": "stdout",
     "output_type": "stream",
     "text": [
      "True\n",
      "3.62 µs ± 219 ns per loop (mean ± std. dev. of 7 runs, 100000 loops each)\n"
     ]
    }
   ],
   "source": [
    "def func(x,y):\n",
    "\n",
    "    x.sort()\n",
    "    y.sort()\n",
    "    if sum(x%y)==0:\n",
    "        return True\n",
    "    else:\n",
    "        return False\n",
    "x = np.array([1, 2, 2, 4])\n",
    "y = np.array([4, 2, 1, 2])\n",
    "# x = np.random.rand(1000)\n",
    "# y = np.random.rand(1000)\n",
    "print(func(x,y))\n",
    "%timeit func(x,y)"
   ]
  },
  {
   "cell_type": "markdown",
   "metadata": {
    "id": "CqCmIWuuU6_L"
   },
   "source": [
    "2.4"
   ]
  },
  {
   "cell_type": "code",
   "execution_count": 128,
   "metadata": {
    "colab": {
     "base_uri": "https://localhost:8080/"
    },
    "id": "G48WgojeU51x",
    "outputId": "7ca5c324-de64-4878-be85-bce2b5948584"
   },
   "outputs": [
    {
     "name": "stdout",
     "output_type": "stream",
     "text": [
      "True\n",
      "2.13 µs ± 65.2 ns per loop (mean ± std. dev. of 7 runs, 100000 loops each)\n"
     ]
    }
   ],
   "source": [
    "def func(x,y):\n",
    "    ind=0\n",
    "    x.sort()\n",
    "    y.sort()\n",
    "    for i in range(len(x)):\n",
    "        if x[i]!=y[i]:\n",
    "            return False\n",
    "    return True\n",
    "x = np.array([1, 2, 2, 4])\n",
    "y = np.array([4, 2, 1, 2])\n",
    "# x = np.random.rand(1000)\n",
    "# y = np.random.rand(1000)\n",
    "print(func(x,y))\n",
    "%timeit func(x,y)"
   ]
  },
  {
   "cell_type": "markdown",
   "metadata": {
    "id": "M9aHUxNvVS1K"
   },
   "source": [
    "3. Найти максимальный элемент в векторе x среди элементов, перед которыми стоит нулевой."
   ]
  },
  {
   "cell_type": "markdown",
   "metadata": {
    "id": "Fu8reCekVnXL"
   },
   "source": [
    "3.1"
   ]
  },
  {
   "cell_type": "code",
   "execution_count": 129,
   "metadata": {
    "colab": {
     "base_uri": "https://localhost:8080/"
    },
    "id": "LAEAfev8VQDx",
    "outputId": "184ed819-a685-497e-b9ff-502865a0524d"
   },
   "outputs": [
    {
     "name": "stdout",
     "output_type": "stream",
     "text": [
      "5\n",
      "11.9 µs ± 5.97 µs per loop (mean ± std. dev. of 7 runs, 100000 loops each)\n"
     ]
    }
   ],
   "source": [
    "def func(X):\n",
    "    a=[]\n",
    "    for i in range(len(X)):\n",
    "        if X[i]==0 and i!=len(X)-1:\n",
    "            a.append(X[i+1])\n",
    "    X=np.array([a])\n",
    "    return np.max(X)\n",
    "X = np.array([6, 2, 0, 3, 0, 0, 5, 7, 0])\n",
    "#X=np.random.rand(1000)\n",
    "print(func(X))\n",
    "%timeit func(X)"
   ]
  },
  {
   "cell_type": "markdown",
   "metadata": {
    "id": "g6mXVWhEWHsc"
   },
   "source": [
    "3.2"
   ]
  },
  {
   "cell_type": "code",
   "execution_count": 131,
   "metadata": {
    "colab": {
     "base_uri": "https://localhost:8080/"
    },
    "id": "ed_wrFP6VlRs",
    "outputId": "7f6ef578-d0f8-4264-f7dd-adfc57ef7560"
   },
   "outputs": [
    {
     "name": "stdout",
     "output_type": "stream",
     "text": [
      "5\n",
      "6.81 µs ± 161 ns per loop (mean ± std. dev. of 7 runs, 100000 loops each)\n"
     ]
    }
   ],
   "source": [
    "def func(X):\n",
    "    mask = X[:-1] == 0\n",
    "    max_element = np.max(X[1:][mask])\n",
    "    return max_element\n",
    "\n",
    "X = np.array([6, 2, 0, 3, 0, 0, 5, 7, 0])\n",
    "#X=np.random.rand(1000)\n",
    "print(func(X))\n",
    "%timeit func(X)"
   ]
  },
  {
   "cell_type": "markdown",
   "metadata": {
    "id": "2cdklN7_WKMB"
   },
   "source": [
    "3.3"
   ]
  },
  {
   "cell_type": "code",
   "execution_count": 132,
   "metadata": {
    "colab": {
     "base_uri": "https://localhost:8080/"
    },
    "id": "uFIXytD9V7EF",
    "outputId": "fce204b0-be36-4ca7-8698-9c2eb06c88be"
   },
   "outputs": [
    {
     "name": "stdout",
     "output_type": "stream",
     "text": [
      "5\n",
      "2.65 µs ± 35.1 ns per loop (mean ± std. dev. of 7 runs, 100000 loops each)\n"
     ]
    }
   ],
   "source": [
    "def func(X):\n",
    "  return max((X[i] for i in range(1, len(X)) if X[i - 1] == 0))\n",
    "X = np.array([6, 2, 0, 3, 0, 0, 5, 7, 0])\n",
    "#X=np.random.rand(1000)\n",
    "print(func(X))\n",
    "%timeit func(X)"
   ]
  },
  {
   "cell_type": "markdown",
   "metadata": {
    "id": "HNVChoHkWQPD"
   },
   "source": [
    "4. Дан трёхмерный массив, содержащий изображение, размера (height, width, numChannels), а также вектор длины numChannels. Сложить каналы изображения с указанными весами, и вернуть результат в виде матрицы размера (height, width). Считать реальное изображение можно при помощи функции scipy.misc.imread (если изображение не в формате png, установите пакет pillow: conda install pillow). Преобразуйте цветное изображение в оттенки серого, использовав коэффициенты np.array([0.299, 0.587, 0.114]).\n"
   ]
  },
  {
   "cell_type": "markdown",
   "metadata": {
    "id": "d9KhnvpxWTgU"
   },
   "source": [
    "4.1"
   ]
  },
  {
   "cell_type": "code",
   "execution_count": 133,
   "metadata": {
    "colab": {
     "base_uri": "https://localhost:8080/"
    },
    "id": "-u3RiTSPWTAI",
    "outputId": "ffdd962c-1d2f-4982-f633-e34f5d23199e"
   },
   "outputs": [
    {
     "name": "stdout",
     "output_type": "stream",
     "text": [
      "[[117 118 118 ...  44  47  47]\n",
      " [117 118 118 ...  46  46  46]\n",
      " [117 118 118 ...  46  46  44]\n",
      " ...\n",
      " [134 136 137 ...  46  47  50]\n",
      " [136 137 137 ...  44  46  48]\n",
      " [136 137 138 ...  46  46  48]]\n",
      "4.58 s ± 639 ms per loop (mean ± std. dev. of 7 runs, 1 loop each)\n"
     ]
    }
   ],
   "source": [
    "import imageio.v2 as imageio\n",
    "\n",
    "def func(a,weights):\n",
    "    for i in range(a.shape[2]):\n",
    "        if i == 0:\n",
    "            for j in range(a.shape[0]):\n",
    "                for k in range(a.shape[1]):\n",
    "                    a[j][k][i]=weights[i]*a[j][k][i]\n",
    "        else:\n",
    "            for j in range(a.shape[0]):\n",
    "                for k in range(a.shape[1]):\n",
    "                    a[j][k][0]+=weights[i]*a[j][k][i]\n",
    "    return a[:,:,0]\n",
    "im = imageio.imread('pic1.png')\n",
    "Im = np.asarray(im)\n",
    "weights = np.array([0.299, 0.587, 0.114])\n",
    "print(func(Im,weights))\n",
    "imageio.imwrite('pic2.png',func(Im,weights))\n",
    "%timeit func(Im,weights)\n",
    "\n"
   ]
  },
  {
   "cell_type": "markdown",
   "metadata": {
    "id": "H5Pa1ja-a8m8"
   },
   "source": [
    "4.2"
   ]
  },
  {
   "cell_type": "code",
   "execution_count": 134,
   "metadata": {
    "colab": {
     "base_uri": "https://localhost:8080/"
    },
    "id": "xbz1gVzBXeIm",
    "outputId": "6e68603b-7e3a-4ab0-febd-19bfe578103e"
   },
   "outputs": [
    {
     "name": "stdout",
     "output_type": "stream",
     "text": [
      "(720, 1280)\n",
      "38 ms ± 10.9 ms per loop (mean ± std. dev. of 7 runs, 10 loops each)\n"
     ]
    }
   ],
   "source": [
    "def func(im_1,w):\n",
    "  im_1 = np.dot(np.reshape(im_1,(-1,im_1.shape[1],im_1.shape[2])),w)\n",
    "  #print(im_1)\n",
    "  return im_1\n",
    "im = imageio.imread('pic1.png')\n",
    "Im = np.asarray(im)\n",
    "weights = np.array([0.299, 0.587, 0.114])\n",
    "print(func(Im,weights).shape)\n",
    "imageio.imwrite('pic21.png',func(Im,weights).astype(np.uint8))\n",
    "%timeit func(Im,weights)"
   ]
  },
  {
   "cell_type": "markdown",
   "metadata": {
    "id": "TbsJ-HU8fc8j"
   },
   "source": [
    "4.3"
   ]
  },
  {
   "cell_type": "code",
   "execution_count": 135,
   "metadata": {
    "colab": {
     "base_uri": "https://localhost:8080/"
    },
    "id": "_U4GkZHpiLeO",
    "outputId": "1ec60007-db71-4ce6-c342-064c00d8c29f"
   },
   "outputs": [
    {
     "name": "stdout",
     "output_type": "stream",
     "text": [
      "(720, 1280)\n",
      "6.69 ms ± 1.52 ms per loop (mean ± std. dev. of 7 runs, 100 loops each)\n"
     ]
    }
   ],
   "source": [
    "def func(im,w):\n",
    "    image = np.zeros((im.shape[0],im.shape[1]))\n",
    "    for i in range(im.shape[2]):\n",
    "        image+=im[:,:,i]*w[i]\n",
    "    return image\n",
    "\n",
    "im = imageio.imread('pic1.png')\n",
    "Im = np.asarray(im)\n",
    "weights = np.array([0.299, 0.587, 0.114])\n",
    "print(func(Im,weights).shape)\n",
    "imageio.imwrite('pic22.png',func(Im,weights).astype(np.uint8))\n",
    "%timeit func(Im,weights)"
   ]
  },
  {
   "cell_type": "markdown",
   "metadata": {
    "id": "C7zG_OcsfeNF"
   },
   "source": [
    "5.Реализовать кодирование длин серий (Run-length encoding). Дан вектор x. Необходимо вернуть кортеж из двух векторов одинаковой длины. Первый содержит числа, а второй - сколько раз их нужно повторить."
   ]
  },
  {
   "cell_type": "markdown",
   "metadata": {
    "id": "4ZNZo1kyfhar"
   },
   "source": [
    "5.1\n"
   ]
  },
  {
   "cell_type": "code",
   "execution_count": 136,
   "metadata": {
    "colab": {
     "base_uri": "https://localhost:8080/"
    },
    "id": "A2NoL5N6bXMo",
    "outputId": "93c48919-9c09-428c-a6c3-a62d084b41fa"
   },
   "outputs": [
    {
     "name": "stdout",
     "output_type": "stream",
     "text": [
      "([2, 3, 5, 2], [3, 3, 1, 2])\n",
      "3.04 µs ± 54.4 ns per loop (mean ± std. dev. of 7 runs, 100000 loops each)\n"
     ]
    }
   ],
   "source": [
    "def func(x):\n",
    "    val = []\n",
    "    kol = []\n",
    "    val.append(x[0])\n",
    "    kol.append(1)\n",
    "    j=0\n",
    "    for i in range(1,len(x),1):\n",
    "        if(val[j]==x[i]):\n",
    "            kol[j]+=1\n",
    "        else:\n",
    "            j+=1\n",
    "            val.append(x[i])\n",
    "            kol.append(1)\n",
    "    return val, kol\n",
    "x = np.array([2, 2, 2, 3, 3, 3, 5, 2, 2])\n",
    "#x=np.random.rand(1000)\n",
    "\n",
    "print(func(x))\n",
    "%timeit func(x)"
   ]
  },
  {
   "cell_type": "markdown",
   "metadata": {
    "id": "xLjfAWAHgIeU"
   },
   "source": [
    "5.2"
   ]
  },
  {
   "cell_type": "code",
   "execution_count": 137,
   "metadata": {
    "colab": {
     "base_uri": "https://localhost:8080/"
    },
    "id": "tsrvNHrKfx5X",
    "outputId": "c8ae91c6-af31-4ac5-f013-602c88ada401"
   },
   "outputs": [
    {
     "name": "stdout",
     "output_type": "stream",
     "text": [
      "(array([2., 3., 5., 2.]), array([3., 3., 1., 2.]))\n",
      "48.4 µs ± 13.2 µs per loop (mean ± std. dev. of 7 runs, 10000 loops each)\n"
     ]
    }
   ],
   "source": [
    "def func(x):\n",
    "    btw = (x[1:] != x[:-1])\n",
    "    y = np.append(np.where(btw), len(x)-1)\n",
    "    parts = np.split(x, y+1)\n",
    "    values, counts=np.zeros(len(parts)-1),np.zeros(len(parts)-1)\n",
    "    for i in range(len(parts)-1):\n",
    "        values[i]=parts[i][0]\n",
    "        counts[i]=len(parts[i])\n",
    "    return (values, counts)\n",
    "x = np.array([2, 2, 2, 3, 3, 3, 5, 2, 2])\n",
    "#x=np.random.rand(1000)\n",
    "print(func(x))\n",
    "%timeit func(x)"
   ]
  },
  {
   "cell_type": "markdown",
   "metadata": {
    "id": "TsfWHJ4qgKLV"
   },
   "source": [
    "5.3"
   ]
  },
  {
   "cell_type": "code",
   "execution_count": 138,
   "metadata": {
    "colab": {
     "base_uri": "https://localhost:8080/"
    },
    "id": "L2B93lt1gG5M",
    "outputId": "f17d3f6e-937e-4339-bc37-c0545d2d0b7a"
   },
   "outputs": [
    {
     "name": "stdout",
     "output_type": "stream",
     "text": [
      "(array([2, 3, 5, 2]), array([3, 3, 1, 2]))\n",
      "19.6 µs ± 5.19 µs per loop (mean ± std. dev. of 7 runs, 100000 loops each)\n"
     ]
    }
   ],
   "source": [
    "def func(x):\n",
    "    indices = np.concatenate(([0], np.where(np.diff(x) != 0)[0] + 1, [len(x)]))\n",
    "    numbers = x[indices[:-1]]\n",
    "    counts = np.diff(indices)\n",
    "    return numbers, counts\n",
    "\n",
    "x = np.array([2, 2, 2, 3, 3, 3, 5, 2, 2])\n",
    "#x=np.random.rand(1000)\n",
    "print(func(x))\n",
    "%timeit func(x)\n",
    "\n"
   ]
  },
  {
   "cell_type": "markdown",
   "metadata": {
    "id": "KGKkv2kOpqX-"
   },
   "source": [
    "Вывод: при работе с небольшим количеством данных циклические методы даже решают задачи быстрее тех, в которых используется numpy. Но с ростом (особенно после 1000 элементных массивов или матриц) numpy уверенно обыгрывет по скорости работы программы, написанные с помощью for, while и тп."
   ]
  },
  {
   "cell_type": "code",
   "execution_count": 116,
   "metadata": {
    "id": "Zcdja0VQgcME"
   },
   "outputs": [],
   "source": []
  }
 ],
 "metadata": {
  "colab": {
   "provenance": []
  },
  "kernelspec": {
   "display_name": "Python 3 (ipykernel)",
   "language": "python",
   "name": "python3"
  },
  "language_info": {
   "codemirror_mode": {
    "name": "ipython",
    "version": 3
   },
   "file_extension": ".py",
   "mimetype": "text/x-python",
   "name": "python",
   "nbconvert_exporter": "python",
   "pygments_lexer": "ipython3",
   "version": "3.12.3"
  }
 },
 "nbformat": 4,
 "nbformat_minor": 4
}
